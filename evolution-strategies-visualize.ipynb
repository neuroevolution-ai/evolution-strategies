{
 "cells": [
  {
   "cell_type": "code",
   "execution_count": null,
   "metadata": {},
   "outputs": [],
   "source": [
    "import csv"
   ]
  },
  {
   "cell_type": "markdown",
   "metadata": {},
   "source": [
    "## Load a Model\n",
    "\n",
    "Since we use a custom initializer and this gets serialized during the saving process of the model we need to pass it on when we load it again. Unfortunately with the issue of the background TensorFlow session when importing TensorFlow and multiprocessing we cannot define the initializer one time and use it here again. So we define it twice, one inside the create_model() function and here."
   ]
  },
  {
   "cell_type": "code",
   "execution_count": null,
   "metadata": {},
   "outputs": [],
   "source": [
    "def load_model(model_path):   \n",
    "    import numpy as np\n",
    "    import tensorflow as tf\n",
    "\n",
    "    class Normc_initializer(tf.keras.initializers.Initializer):\n",
    "        \"\"\"\n",
    "        Create a TensorFlow constant with random numbers normed in the given shape.\n",
    "        :param std:\n",
    "        :return:\n",
    "        \"\"\"\n",
    "        def __init__(self, std=1.0):\n",
    "            self.std = std\n",
    "\n",
    "        def __call__(self, shape, dtype=None, partition_info=None):\n",
    "            out = np.random.randn(*shape).astype(np.float32)\n",
    "            out *= self.std / np.sqrt(np.square(out).sum(axis=0, keepdims=True))\n",
    "            return tf.constant(out)\n",
    "        \n",
    "    class ObservationNormalizationLayer(tf.keras.layers.Layer):\n",
    "        def __init__(self, ob_mean, ob_std, **kwargs):\n",
    "            self.ob_mean = ob_mean\n",
    "            self.ob_std = ob_std\n",
    "            super(ObservationNormalizationLayer, self).__init__(**kwargs)\n",
    "\n",
    "        def call(self, input):\n",
    "            return tf.clip_by_value((input - self.ob_mean) / self.ob_std, -5.0, 5.0)\n",
    "          \n",
    "        def get_config(self):\n",
    "            base_config = super(ObservationNormalizationLayer, self).get_config()\n",
    "            base_config['ob_mean'] = self.ob_mean\n",
    "            base_config['ob_std'] = self.ob_std\n",
    "            return base_config\n",
    "        \n",
    "        @classmethod\n",
    "        def from_config(cls, config):\n",
    "            return cls(**config)\n",
    "    \n",
    "    custom_objects = {'Normc_initializer' : Normc_initializer(std=1.0), \n",
    "                      'ObservationNormalizationLayer' : ObservationNormalizationLayer}\n",
    "    \n",
    "    return tf.keras.models.load_model(model_path, custom_objects=custom_objects)"
   ]
  },
  {
   "cell_type": "markdown",
   "metadata": {},
   "source": [
    "# Visualize"
   ]
  },
  {
   "cell_type": "code",
   "execution_count": null,
   "metadata": {},
   "outputs": [],
   "source": [
    "import gym, roboschool\n",
    "import PIL.Image\n",
    "import time\n",
    "from io import BytesIO\n",
    "from IPython import display\n",
    "\n",
    "\n",
    "def showarray(a, fmt='jpeg'):\n",
    "    f = BytesIO()\n",
    "    PIL.Image.fromarray(a).save(f, fmt)\n",
    "    display.display(display.Image(data=f.getvalue()))\n",
    "\n",
    "def rollout(env, model, render=False, timestep_limit=None, save_obs=False, random_stream=None):\n",
    "    \"\"\"\n",
    "    If random_stream is provided, the rollout will take noisy actions with noise drawn from that stream.\n",
    "    Otherwise, no action noise will be added.\n",
    "    \"\"\"\n",
    "    \n",
    "    env_timestep_limit = env.spec.tags.get('wrapper_config.TimeLimit.max_episode_steps')\n",
    "    timestep_limit = env_timestep_limit if timestep_limit is None else min(timestep_limit, env_timestep_limit)\n",
    "    rews = []\n",
    "    t = 0\n",
    "    if save_obs:\n",
    "        obs = []\n",
    "    ob = env.reset()\n",
    "    for _ in range(timestep_limit):\n",
    "        if render:\n",
    "            showarray(env.render(mode='rgb_array'))\n",
    "            display.clear_output(wait=True)\n",
    "        ac = act(ob[None], model, random_stream=random_stream)[0]\n",
    "        if save_obs:\n",
    "            obs.append(ob)\n",
    "        ob, rew, done, _ = env.step(ac)\n",
    "        rews.append(rew)\n",
    "        t += 1\n",
    "\n",
    "        if done:\n",
    "            break\n",
    "    rews = np.array(rews, dtype=np.float32)\n",
    "    if save_obs:\n",
    "        return rews, t, np.array(obs)\n",
    "    return rews, t\n",
    "\n",
    "def act(ob, model, random_stream=None):   \n",
    "    action = model.predict(ob)\n",
    "    \n",
    "    # TODO why randomstream? Better generalization?\n",
    "    if random_stream is not None and model_structure.ac_noise_std != 0:\n",
    "        action += random_stream.randn(*action.shape) * model_structure.ac_noise_std\n",
    "    return action"
   ]
  },
  {
   "cell_type": "code",
   "execution_count": null,
   "metadata": {},
   "outputs": [],
   "source": [
    "def parse_log_to_csv(log_file, csv_file):\n",
    "    with open(log_file) as f:\n",
    "        content = f.readlines()\n",
    "\n",
    "    groups = temp =  []\n",
    "    for line in content:\n",
    "        line = line.split()\n",
    "\n",
    "        if not line:\n",
    "            continue\n",
    "\n",
    "        if \"Generation\" in line:\n",
    "            temp = [line[-1]]\n",
    "            groups.append(temp)\n",
    "        else:\n",
    "            temp.append(line[-1])\n",
    "\n",
    "    writer = csv.writer(open(csv_file, 'w'))\n",
    "\n",
    "    writer.writerow(['Generation',\n",
    "                     'Reward Mean',\n",
    "                     'Reward Standard Deviation',\n",
    "                     'Length Mean',\n",
    "                     'Evaluation Reward Mean',\n",
    "                     'Evaluation Reward Standard Deviation',\n",
    "                     'Evaluation Length Mean',\n",
    "                     'Evaluation Count',\n",
    "                     'Episodes this generation',\n",
    "                     'Episodes overall',\n",
    "                     'Timesteps this generation',\n",
    "                     'Timesteps overall',\n",
    "                     'Unique Workers',\n",
    "                     'Observation count',\n",
    "                     'Time elapsed this generation (s)',\n",
    "                     'Time elapsed overall (s)'])\n",
    "\n",
    "    for generation in groups:\n",
    "        if len(generation) != 18: continue\n",
    "\n",
    "        row = []\n",
    "\n",
    "        for column in generation:\n",
    "            row.append(column)\n",
    "\n",
    "        writer.writerow(row)\n"
   ]
  },
  {
   "cell_type": "code",
   "execution_count": null,
   "metadata": {},
   "outputs": [],
   "source": [
    "import os\n",
    "import tensorflow as tf\n",
    "\n",
    "save_directory = os.getcwd() + \"/es_9655/\"\n",
    "\n",
    "file_paths = [save_directory + file for file in os.listdir(save_directory) if file.endswith(\".h5\")]\n",
    "file_paths.sort()\n",
    "trained_models = [load_model(file_path) for file_path in file_paths]\n",
    "\n",
    "file_paths[-1]\n",
    "\n",
    "model = trained_models[-1]\n",
    "model.summary()\n"
   ]
  },
  {
   "cell_type": "code",
   "execution_count": null,
   "metadata": {},
   "outputs": [],
   "source": [
    "import numpy as np\n",
    "from gym import wrappers\n",
    "\n",
    "env = gym.make(\"RoboschoolAnt-v1\")\n",
    "env = wrappers.Monitor(env, save_directory, force=True)\n",
    "\n",
    "rollout_rend(env, trained_models[-1], render=True)"
   ]
  },
  {
   "cell_type": "markdown",
   "metadata": {},
   "source": [
    "Test multiple displaying of an environment in one \"kernel session\""
   ]
  },
  {
   "cell_type": "code",
   "execution_count": null,
   "metadata": {},
   "outputs": [],
   "source": [
    "from multiprocessing import Process\n",
    "p = Process(target=rollout_rend, args=(env, trained_models[-1], True))\n",
    "p.start()\n",
    "p.join()"
   ]
  }
 ],
 "metadata": {
  "kernelspec": {
   "display_name": "Python 3",
   "language": "python",
   "name": "python3"
  },
  "language_info": {
   "codemirror_mode": {
    "name": "ipython",
    "version": 3
   },
   "file_extension": ".py",
   "mimetype": "text/x-python",
   "name": "python",
   "nbconvert_exporter": "python",
   "pygments_lexer": "ipython3",
   "version": "3.7.4"
  }
 },
 "nbformat": 4,
 "nbformat_minor": 2
}
