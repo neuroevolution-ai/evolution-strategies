{
 "cells": [
  {
   "cell_type": "code",
   "execution_count": null,
   "metadata": {},
   "outputs": [],
   "source": [
    "import gym\n",
    "import pybullet_envs\n",
    "\n",
    "\n",
    "#spec = gym.envs.registry.spec('HumanoidBulletEnv-v0')\n",
    "#spec._kwargs['render'] = True\n",
    "env = gym.make('AntBulletEnv-v0')\n",
    "\n",
    "\n",
    "print('reward range: '+str(env.env.reward_range))\n",
    "print('action space: '+str(env.action_space))\n",
    "print('observation space: '+str(env.observation_space))\n",
    "print('test: '+str(env.env))\n",
    "\n",
    "ob = env.reset()\n",
    "\n",
    "print(\"ob: \"+str(ob))\n",
    "print('action space sample: '+str(env.action_space.sample()))"
   ]
  },
  {
   "cell_type": "code",
   "execution_count": null,
   "metadata": {},
   "outputs": [],
   "source": [
    "for i_episode in range(20):\n",
    "    observation = env.reset()\n",
    "    for t in range(100):\n",
    "        #env.render(mode=\"human\")\n",
    "        env.render()\n",
    "        #print(observation)\n",
    "        action = env.action_space.sample()\n",
    "        observation, reward, done, info = env.step(action)\n",
    "        if done:\n",
    "            print(\"Episode {} finished after {} timesteps\".format(i_episode+1, t+1))\n",
    "            break\n",
    "env.close()"
   ]
  },
  {
   "cell_type": "code",
   "execution_count": null,
   "metadata": {},
   "outputs": [],
   "source": []
  },
  {
   "cell_type": "code",
   "execution_count": null,
   "metadata": {},
   "outputs": [],
   "source": []
  },
  {
   "cell_type": "code",
   "execution_count": null,
   "metadata": {},
   "outputs": [],
   "source": [
    "# Copyright (c) 2018 Uber Technologies, Inc.\n",
    "#\n",
    "# Licensed under the Apache License, Version 2.0 (the \"License\");\n",
    "# you may not use this file except in compliance with the License.\n",
    "# You may obtain a copy of the License at\n",
    "#\n",
    "#     http://www.apache.org/licenses/LICENSE-2.0\n",
    "#\n",
    "#     Unless required by applicable law or agreed to in writing, software\n",
    "#     distributed under the License is distributed on an \"AS IS\" BASIS,\n",
    "#     WITHOUT WARRANTIES OR CONDITIONS OF ANY KIND, either express or implied.\n",
    "#     See the License for the specific language governing permissions and\n",
    "#     limitations under the License.\n",
    "\n",
    "import os\n",
    "\n",
    "import click\n",
    "import gym\n",
    "import neat\n",
    "\n",
    "from pytorch_neat.multi_env_eval import MultiEnvEvaluator\n",
    "from pytorch_neat.neat_reporter import LogReporter\n",
    "from pytorch_neat.recurrent_net import RecurrentNet\n",
    "\n",
    "max_env_steps = 20\n",
    "\n",
    "\n",
    "def make_env():\n",
    "    return gym.make(\"CartPole-v0\")\n",
    "\n",
    "\n",
    "def make_net(genome, config, bs):\n",
    "    return RecurrentNet.create(genome, config, bs)\n",
    "\n",
    "\n",
    "def activate_net(net, states):\n",
    "    outputs = net.activate(states).numpy()\n",
    "    return outputs[:, 0] > 0.5\n",
    "\n",
    "def run(n_generations):\n",
    "    # Load the config file, which is assumed to live in\n",
    "    # the same directory as this script.\n",
    "    config_path = \"data/neat.cfg\"\n",
    "    config = neat.Config(\n",
    "        neat.DefaultGenome,\n",
    "        neat.DefaultReproduction,\n",
    "        neat.DefaultSpeciesSet,\n",
    "        neat.DefaultStagnation,\n",
    "        config_path,\n",
    "    )\n",
    "\n",
    "    evaluator = MultiEnvEvaluator(\n",
    "        make_net, activate_net, make_env=make_env, max_env_steps=max_env_steps\n",
    "    )\n",
    "\n",
    "    def eval_genomes(genomes, config):\n",
    "        for _, genome in genomes:\n",
    "            genome.fitness = evaluator.eval_genome(genome, config)\n",
    "\n",
    "    pop = neat.Population(config)\n",
    "    stats = neat.StatisticsReporter()\n",
    "    pop.add_reporter(stats)\n",
    "    reporter = neat.StdOutReporter(True)\n",
    "    pop.add_reporter(reporter)\n",
    "    logger = LogReporter(\"neat.log\", evaluator.eval_genome)\n",
    "    pop.add_reporter(logger)\n",
    "\n",
    "    pop.run(eval_genomes, n_generations)\n",
    "\n",
    "\n",
    "\n",
    "run(5)"
   ]
  },
  {
   "cell_type": "code",
   "execution_count": 26,
   "metadata": {},
   "outputs": [
    {
     "name": "stdout",
     "output_type": "stream",
     "text": [
      "input: [1 2 3 4]\n"
     ]
    }
   ],
   "source": [
    "# input: [array([-0.02834946,  0.60288101, -0.03312201, -0.85546669])]\n",
    "import numpy as np\n",
    "inputs = np.array([1,2,3,4])\n",
    "print(\"input: \"+str(inputs))"
   ]
  },
  {
   "cell_type": "code",
   "execution_count": 28,
   "metadata": {},
   "outputs": [
    {
     "name": "stdout",
     "output_type": "stream",
     "text": [
      "[1 2 3 4]\n"
     ]
    }
   ],
   "source": [
    "print(str(inputs))"
   ]
  },
  {
   "cell_type": "code",
   "execution_count": null,
   "metadata": {},
   "outputs": [],
   "source": []
  }
 ],
 "metadata": {
  "kernelspec": {
   "display_name": "Python 3",
   "language": "python",
   "name": "python3"
  },
  "language_info": {
   "codemirror_mode": {
    "name": "ipython",
    "version": 3
   },
   "file_extension": ".py",
   "mimetype": "text/x-python",
   "name": "python",
   "nbconvert_exporter": "python",
   "pygments_lexer": "ipython3",
   "version": "3.7.3"
  }
 },
 "nbformat": 4,
 "nbformat_minor": 4
}
