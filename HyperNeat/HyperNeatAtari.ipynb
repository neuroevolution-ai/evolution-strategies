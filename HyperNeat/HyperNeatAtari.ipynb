{
 "cells": [
  {
   "cell_type": "code",
   "execution_count": null,
   "metadata": {},
   "outputs": [],
   "source": [
    "%matplotlib inline\n",
    "\n",
    "import os\n",
    "import pickle\n",
    "import numpy as np\n",
    "\n",
    "import gym\n",
    "import neat\n",
    "import cv2\n",
    "\n",
    "import utils.PyPlotReporter\n",
    "import utils.CSVReporter\n",
    "import utils.SubstrateNet as Substrate\n",
    "from utils.EnvEvaluator import * \n",
    "from utils.SubstrateNet import GridMappingBounds, DirectMapping\n",
    "from utils.Profiling import get_exec_times_pd\n",
    "from utils.Atari import CONTROLLER_TO_ACTION,CONTROLLER_TO_ACTION_SHORT"
   ]
  },
  {
   "cell_type": "code",
   "execution_count": null,
   "metadata": {},
   "outputs": [],
   "source": [
    "class HyperNeatEnvEvaluator(HyperNeatEnvEvaluator):\n",
    "    \n",
    "    def make_substrate(self):\n",
    "        sub = Substrate.Sequential(min_abs_weight=0.1,bias=False)\n",
    "        sub.input(Substrate.Input(GridMappingBounds((42,32), 0, range_x=(-1,1), range_y=(-1, 2))))\n",
    "#        sub.add(Substrate.Dense(grid_mapping_bounds((21,16), 1, range_x=(-0.5,0.5), range_y=(-0.5, 0.5))))\n",
    "        #                       output coords: FIRE , UP      , RIGHT, LEFT     , DOWN        , z-coord       \n",
    "        sub.add(Substrate.Dense(DirectMapping([(1,0), (-0.5,1), (0,0), (-1, 0), (-0.5,-1)], 1)))\n",
    "        sub.compile()\n",
    "        return sub\n",
    "\n",
    "    def preproc_img(self, observation):\n",
    "        grey = cv2.cvtColor(observation, cv2.COLOR_RGB2GRAY)\n",
    "        grey = cv2.resize(grey,dsize=(32,42), interpolation=cv2.INTER_AREA) \n",
    "       # grey = (grey - np.mean(grey)) / np.std(grey) \n",
    "        grey = grey / 255\n",
    "        return grey\n",
    "    \n",
    "    def activate_net(self, sub, observation): \n",
    "        grey = self.preproc_img(observation)\n",
    "        activation = sub.activate(grey)[0]\n",
    "        out = tuple(activation > .5)\n",
    "        action = CONTROLLER_TO_ACTION_SHORT[out]\n",
    "        return action\n",
    "\n",
    "evaluator = HyperNeatEnvEvaluator(\"DemonAttack-v0\", 2000, n_workers=8, seed=None)\n",
    "#evaluator = HyperNeatEnvEvaluator(\"ChopperCommand-v0\", 1000, n_workers=8, seed=1111)"
   ]
  },
  {
   "cell_type": "code",
   "execution_count": null,
   "metadata": {},
   "outputs": [],
   "source": [
    "config_path = \"./configs/hyperatari.cfg\" \n",
    "\n",
    "config = neat.Config(\n",
    "    neat.DefaultGenome,\n",
    "    neat.DefaultReproduction,\n",
    "    neat.DefaultSpeciesSet,\n",
    "    neat.DefaultStagnation,\n",
    "    config_path,\n",
    ")"
   ]
  },
  {
   "cell_type": "code",
   "execution_count": null,
   "metadata": {},
   "outputs": [],
   "source": [
    "pop = neat.Population(config)\n",
    "pop.add_reporter(utils.CSVReporter.CSVReporter(\"saves/progress.csv\"))\n",
    "pop.add_reporter(utils.PyPlotReporter.PyPlotReporter())\n",
    "pop.add_reporter(neat.Checkpointer(1, None, \"saves/cp_atari_6_\"))"
   ]
  },
  {
   "cell_type": "code",
   "execution_count": null,
   "metadata": {},
   "outputs": [],
   "source": [
    "gnome = pop.run(evaluator.eval_all_genomes, 3)"
   ]
  },
  {
   "cell_type": "code",
   "execution_count": null,
   "metadata": {},
   "outputs": [],
   "source": [
    "# print profiling information\n",
    "get_exec_times_pd()"
   ]
  },
  {
   "cell_type": "code",
   "execution_count": null,
   "metadata": {},
   "outputs": [],
   "source": [
    "# plot progress from csv file\n",
    "utils.CSVReporter.CSVReporter.plot(\"saves/progress.csv\")"
   ]
  },
  {
   "cell_type": "code",
   "execution_count": null,
   "metadata": {},
   "outputs": [],
   "source": [
    "# reload from checkpoint and find best gnome\n",
    "pop = neat.Checkpointer.restore_checkpoint(\"saves/cp_atari_6_2\")\n",
    "pop.add_reporter(neat.StdOutReporter(False))\n",
    "gnome = pop.run(evaluator.eval_all_genomes, 1)"
   ]
  },
  {
   "cell_type": "markdown",
   "metadata": {},
   "source": [
    "## Visualization"
   ]
  },
  {
   "cell_type": "code",
   "execution_count": null,
   "metadata": {},
   "outputs": [],
   "source": [
    "import utils.Visualization"
   ]
  },
  {
   "cell_type": "code",
   "execution_count": null,
   "metadata": {},
   "outputs": [],
   "source": [
    "evaluator.show(gnome, config, delay=0.01, random=True)"
   ]
  },
  {
   "cell_type": "code",
   "execution_count": null,
   "metadata": {},
   "outputs": [],
   "source": [
    "utils.Visualization.create_video(evaluator,gnome, config, fps=120)"
   ]
  },
  {
   "cell_type": "code",
   "execution_count": null,
   "metadata": {},
   "outputs": [],
   "source": []
  }
 ],
 "metadata": {
  "kernelspec": {
   "display_name": "Python 3",
   "language": "python",
   "name": "python3"
  },
  "language_info": {
   "codemirror_mode": {
    "name": "ipython",
    "version": 3
   },
   "file_extension": ".py",
   "mimetype": "text/x-python",
   "name": "python",
   "nbconvert_exporter": "python",
   "pygments_lexer": "ipython3",
   "version": "3.7.4"
  }
 },
 "nbformat": 4,
 "nbformat_minor": 4
}
