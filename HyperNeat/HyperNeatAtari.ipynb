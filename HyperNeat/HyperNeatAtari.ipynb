{
 "cells": [
  {
   "cell_type": "code",
   "execution_count": null,
   "metadata": {},
   "outputs": [],
   "source": [
    "%matplotlib inline\n",
    "\n",
    "import os\n",
    "import pickle\n",
    "import numpy as np\n",
    "\n",
    "import gym\n",
    "import neat\n",
    "import cv2\n",
    "\n",
    "import utils.PyPlotReporter\n",
    "import utils.SubstrateNet as Substrate\n",
    "from utils.EnvEvaluator import * \n",
    "from utils.SubstrateNet import GridMappingBounds, DirectMapping\n",
    "from utils.Profiling import get_exec_times_pd\n",
    "from utils.Atari import CONTROLLER_TO_ACTION,CONTROLLER_TO_ACTION_SHORT"
   ]
  },
  {
   "cell_type": "code",
   "execution_count": null,
   "metadata": {},
   "outputs": [],
   "source": [
    "class AtariHyperNeatEnvEvaluator(HyperNeatEnvEvaluator):\n",
    "    \n",
    "    def make_substrate(self):\n",
    "        sub = Substrate.Sequential(min_abs_weight=0.1,bias=False)\n",
    "        sub.input(Substrate.Input(GridMappingBounds((42,32), 0, range_x=(-1,1), range_y=(-1, 1))))\n",
    "#        sub.add(Substrate.Dense(grid_mapping_bounds((21,16), 1, range_x=(-0.5,0.5), range_y=(-0.5, 0.5))))\n",
    "        #                       output coords: FIRE , UP      , RIGHT, LEFT     , DOWN        , z-coord       \n",
    "        sub.add(Substrate.Dense(DirectMapping([(1,0), (-0.5,1), (0,0), (-1, 0), (-0.5,-1)], 1)))\n",
    "        sub.compile()\n",
    "        return sub\n",
    "\n",
    "    def preproc_img(self, observation):\n",
    "        grey = cv2.cvtColor(observation, cv2.COLOR_RGB2GRAY)\n",
    "        grey = cv2.resize(grey,dsize=(32,42), interpolation=cv2.INTER_AREA) \n",
    "       # grey = (grey - np.mean(grey)) / np.std(grey) \n",
    "        grey = grey / 255\n",
    "        return grey\n",
    "    \n",
    "    def activate_net(self, sub, observation): \n",
    "        grey = self.preproc_img(observation)\n",
    "        activation = sub.activate(grey)[0]\n",
    "        out = tuple(activation > .5)\n",
    "        action = CONTROLLER_TO_ACTION_SHORT[out]\n",
    "        return action\n",
    "\n",
    "evaluator = AtariHyperNeatEnvEvaluator(\"DemonAttack-v0\", 2000, n_workers=8, seed=None)\n",
    "#evaluator = AtariHyperNeatEnvEvaluator(\"ChopperCommand-v0\", 1000, n_workers=8, seed=1111)"
   ]
  },
  {
   "cell_type": "code",
   "execution_count": null,
   "metadata": {},
   "outputs": [],
   "source": [
    "\n",
    "config_path = \"./configs/hyperatari.cfg\" \n",
    "\n",
    "config = neat.Config(\n",
    "    neat.DefaultGenome,\n",
    "    neat.DefaultReproduction,\n",
    "    neat.DefaultSpeciesSet,\n",
    "    neat.DefaultStagnation,\n",
    "    config_path,\n",
    ")\n",
    "\n",
    "\n",
    "pop = neat.Population(config)\n",
    "pop.add_reporter(utils.PyPlotReporter.PyPlotReporter())\n",
    "pop.add_reporter(neat.Checkpointer(1, None, \"saves/cp_atari_6_\"))"
   ]
  },
  {
   "cell_type": "raw",
   "metadata": {},
   "source": [
    "# Continue from Checkpoint\n",
    "pop = neat.Checkpointer.restore_checkpoint(\"saves/cp_atari__\")\n",
    "pop.add_reporter(utils.PyPlotReporter.PyPlotReporter())\n",
    "pop.add_reporter(neat.Checkpointer(1, None, \"saves/cp_atari_2_\"))"
   ]
  },
  {
   "cell_type": "code",
   "execution_count": null,
   "metadata": {},
   "outputs": [],
   "source": [
    "gnome = pop.run(evaluator.eval_all_genomes, 3)"
   ]
  },
  {
   "cell_type": "code",
   "execution_count": null,
   "metadata": {},
   "outputs": [],
   "source": [
    "# save the best genome\n",
    "pickle.dump(gnome,open(\"saves/atari1\",'wb'))"
   ]
  },
  {
   "cell_type": "code",
   "execution_count": null,
   "metadata": {},
   "outputs": [],
   "source": [
    "# print execution times of important functions\n",
    "get_exec_times_pd()"
   ]
  },
  {
   "cell_type": "code",
   "execution_count": null,
   "metadata": {},
   "outputs": [],
   "source": []
  },
  {
   "cell_type": "markdown",
   "metadata": {},
   "source": [
    "## Visualization"
   ]
  },
  {
   "cell_type": "code",
   "execution_count": null,
   "metadata": {},
   "outputs": [],
   "source": [
    "bestg = pickle.load(open(\"saves/atari1\",'rb'))"
   ]
  },
  {
   "cell_type": "code",
   "execution_count": null,
   "metadata": {},
   "outputs": [],
   "source": [
    "evaluator.show(gnome, config, delay=0.01, random=True)"
   ]
  },
  {
   "cell_type": "code",
   "execution_count": null,
   "metadata": {},
   "outputs": [],
   "source": [
    "import imageio\n",
    "from IPython.display import Video\n",
    "import warnings"
   ]
  },
  {
   "cell_type": "code",
   "execution_count": null,
   "metadata": {},
   "outputs": [],
   "source": [
    "def show(self, genome:DefaultGenome, config:Config, fout=\"./out.mp4\", fps=30, quality=7,render=False):\n",
    "    net = self.make_net(genome, config)\n",
    "    env = gym.make(self._env_name)\n",
    "\n",
    "    state = env.reset()\n",
    "    done = False\n",
    "    imgs = []\n",
    "\n",
    "    while not done:\n",
    "        if render:\n",
    "            env.render()\n",
    "        action = self.activate_net(net, state)\n",
    "        state, _, done, _ = env.step(action)\n",
    "        imgs.append(state)\n",
    "\n",
    "    env.close()\n",
    "    \n",
    "    with warnings.catch_warnings():\n",
    "        warnings.simplefilter(\"ignore\")\n",
    "        imageio.mimwrite(fout, imgs, fps=fps, quality=quality)\n",
    "    \n",
    "    \n",
    "\n",
    "    return Video(fout)"
   ]
  },
  {
   "cell_type": "code",
   "execution_count": null,
   "metadata": {},
   "outputs": [],
   "source": [
    "show(evaluator,gnome, config, fps=120)"
   ]
  },
  {
   "cell_type": "code",
   "execution_count": null,
   "metadata": {},
   "outputs": [],
   "source": [
    "Video(\"./out.mp4\")"
   ]
  },
  {
   "cell_type": "code",
   "execution_count": null,
   "metadata": {},
   "outputs": [],
   "source": []
  }
 ],
 "metadata": {
  "kernelspec": {
   "display_name": "Python 3",
   "language": "python",
   "name": "python3"
  },
  "language_info": {
   "codemirror_mode": {
    "name": "ipython",
    "version": 3
   },
   "file_extension": ".py",
   "mimetype": "text/x-python",
   "name": "python",
   "nbconvert_exporter": "python",
   "pygments_lexer": "ipython3",
   "version": "3.7.3"
  }
 },
 "nbformat": 4,
 "nbformat_minor": 4
}
