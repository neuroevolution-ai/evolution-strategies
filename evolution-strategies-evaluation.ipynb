{
 "cells": [
  {
   "cell_type": "markdown",
   "metadata": {},
   "source": [
    "evolution-strategies\n",
    "\n",
    "Copyright (c) 2019 Patrick Deubel\n",
    "\n",
    "Permission is hereby granted, free of charge, to any person obtaining a copy\n",
    "of this software and associated documentation files (the \"Software\"), to deal\n",
    "in the Software without restriction, including without limitation the rights\n",
    "to use, copy, modify, merge, publish, distribute, sublicense, and/or sell\n",
    "copies of the Software, and to permit persons to whom the Software is\n",
    "furnished to do so, subject to the following conditions:\n",
    "\n",
    "The above copyright notice and this permission notice shall be included in\n",
    "all copies or substantial portions of the Software.\n",
    "\n",
    "THE SOFTWARE IS PROVIDED \"AS IS\", WITHOUT WARRANTY OF ANY KIND, EXPRESS OR\n",
    "IMPLIED, INCLUDING BUT NOT LIMITED TO THE WARRANTIES OF MERCHANTABILITY,\n",
    "FITNESS FOR A PARTICULAR PURPOSE AND NONINFRINGEMENT. IN NO EVENT SHALL THE\n",
    "AUTHORS OR COPYRIGHT HOLDERS BE LIABLE FOR ANY CLAIM, DAMAGES OR OTHER\n",
    "LIABILITY, WHETHER IN AN ACTION OF CONTRACT, TORT OR OTHERWISE, ARISING FROM,\n",
    "OUT OF OR IN CONNECTION WITH THE SOFTWARE OR THE USE OR OTHER DEALINGS IN\n",
    "THE SOFTWARE.\n",
    "\n",
    "evolution-strategies includes:\n",
    "\n",
    "evolution-strategies-starter\n",
    "Copyright (c) 2016 OpenAI (http://openai.com)\n",
    "\n",
    "Permission is hereby granted, free of charge, to any person obtaining a copy\n",
    "of this software and associated documentation files (the \"Software\"), to deal\n",
    "in the Software without restriction, including without limitation the rights\n",
    "to use, copy, modify, merge, publish, distribute, sublicense, and/or sell\n",
    "copies of the Software, and to permit persons to whom the Software is\n",
    "furnished to do so, subject to the following conditions:\n",
    "\n",
    "The above copyright notice and this permission notice shall be included in\n",
    "all copies or substantial portions of the Software.\n",
    "\n",
    "THE SOFTWARE IS PROVIDED \"AS IS\", WITHOUT WARRANTY OF ANY KIND, EXPRESS OR\n",
    "IMPLIED, INCLUDING BUT NOT LIMITED TO THE WARRANTIES OF MERCHANTABILITY,\n",
    "FITNESS FOR A PARTICULAR PURPOSE AND NONINFRINGEMENT. IN NO EVENT SHALL THE\n",
    "AUTHORS OR COPYRIGHT HOLDERS BE LIABLE FOR ANY CLAIM, DAMAGES OR OTHER\n",
    "LIABILITY, WHETHER IN AN ACTION OF CONTRACT, TORT OR OTHERWISE, ARISING FROM,\n",
    "OUT OF OR IN CONNECTION WITH THE SOFTWARE OR THE USE OR OTHER DEALINGS IN\n",
    "THE SOFTWARE."
   ]
  },
  {
   "cell_type": "markdown",
   "metadata": {},
   "source": [
    "# Evaluation and Visualization of evolution-strategies\n",
    "\n",
    "This Notebook can be used to easily evaluate and visualize results created with the `evolution-strategies.ipynb` Notebook.\n",
    "\n",
    "When the functions are used, the explanations are only the basics. Feel free to look into the files in the `utils/` folder where the methods are implemented and documented.\n",
    "\n",
    "## TrainingRun and Experiment\n",
    "\n",
    "There are two objects that are mainly used to evaluate the results. An object of type `TrainingRun` describes one execution of the `run_master()` function of the main Notebook. It is therefore one result from the algorithm. `Experiment` objects therefore combine multiple `TrainingRun` objects which have the same values for the configuration. Meaning they have identical `config`, `model_structure` and `optimizations` objects."
   ]
  },
  {
   "cell_type": "code",
   "execution_count": null,
   "metadata": {},
   "outputs": [],
   "source": [
    "import os\n",
    "\n",
    "from utils.es_utils import index_training_folder, index_experiments\n",
    "from utils.config_values import LogColumnHeaders, EvaluationColumnHeaders\n",
    "\n",
    "from IPython.display import display\n",
    "from ipywidgets import Video"
   ]
  },
  {
   "cell_type": "markdown",
   "metadata": {},
   "source": [
    "## Evaluation and Visualization of a TrainingRun\n",
    "\n",
    "### Creating a TrainingRun object\n",
    "\n",
    "For the creation of a TrainingRun object one has to pass the folder which was created during the TrainingRun to the `index_training_folder()` function. This will validate all objects in the folder and checks if indeed a valid TrainingRun has been found. If so it is returned."
   ]
  },
  {
   "cell_type": "code",
   "execution_count": null,
   "metadata": {},
   "outputs": [],
   "source": [
    "training_run = index_training_folder(\"training_runs/path-to-folder\")"
   ]
  },
  {
   "cell_type": "markdown",
   "metadata": {},
   "source": [
    "### Visualizing the TrainingRun\n",
    "\n",
    "If you want to visualize the TrainingRun, you can specify the generation which shall be visualized. Note that for that to work, the corresponding model file must be present, otherwise the trained model can not be loaded and therefore no episode can be started. If you omit the generation, or use `-1` the last generation with a model file is used."
   ]
  },
  {
   "cell_type": "code",
   "execution_count": null,
   "metadata": {},
   "outputs": [],
   "source": [
    "video_file = training_run.visualize(env_seed=None, generation=-1, force=False)"
   ]
  },
  {
   "cell_type": "code",
   "execution_count": null,
   "metadata": {},
   "outputs": [],
   "source": [
    "video = Video.from_file(video_file)\n",
    "display(video)"
   ]
  },
  {
   "cell_type": "markdown",
   "metadata": {},
   "source": [
    "### Evaluating the TrainingRun\n",
    "\n",
    "Since only random evaluations take place during the actual training, the model files should be saved and the evaluation is then done afterwards. This way there are the same amount of evaluations in every generation."
   ]
  },
  {
   "cell_type": "code",
   "execution_count": null,
   "metadata": {},
   "outputs": [],
   "source": [
    "evaluation = training_run.evaluate(env_seed=None, num_evaluations=5, num_workers=os.cpu_count(), force=False, save=True)"
   ]
  },
  {
   "cell_type": "code",
   "execution_count": null,
   "metadata": {},
   "outputs": [],
   "source": [
    "evaluation"
   ]
  },
  {
   "cell_type": "markdown",
   "metadata": {},
   "source": [
    "### Plotting a TrainingRun\n",
    "\n",
    "If you want to plot the reward against the timesteps for example the `plot_training_run` method is useful. It will take the Enums from `LogColumnHeaders` and `EvaluationColumnHeaders` as input to provide a way to uniformely access the data. TODO"
   ]
  },
  {
   "cell_type": "code",
   "execution_count": null,
   "metadata": {},
   "outputs": [],
   "source": []
  },
  {
   "cell_type": "markdown",
   "metadata": {},
   "source": [
    "## Evaluation and Visualization of an Experiment"
   ]
  }
 ],
 "metadata": {
  "kernelspec": {
   "display_name": "Python 3",
   "language": "python",
   "name": "python3"
  },
  "language_info": {
   "codemirror_mode": {
    "name": "ipython",
    "version": 3
   },
   "file_extension": ".py",
   "mimetype": "text/x-python",
   "name": "python",
   "nbconvert_exporter": "python",
   "pygments_lexer": "ipython3",
   "version": "3.7.6"
  }
 },
 "nbformat": 4,
 "nbformat_minor": 4
}
