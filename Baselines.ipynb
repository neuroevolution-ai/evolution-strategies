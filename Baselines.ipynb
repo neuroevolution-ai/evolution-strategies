{
 "cells": [
  {
   "cell_type": "code",
   "execution_count": null,
   "metadata": {},
   "outputs": [],
   "source": [
    "import matplotlib.pyplot as plt\n",
    "import pandas as pd\n",
    "import numpy as np\n",
    "import os\n",
    "\n",
    "from utils.es_utils import index_experiments\n",
    "from utils.config_values import LogColumnHeaders, EvaluationColumnHeaders"
   ]
  },
  {
   "cell_type": "code",
   "execution_count": null,
   "metadata": {},
   "outputs": [],
   "source": [
    "def plot_baseline(baseline_dir, x_value, y_value, do_y_std=True, plot_label=None, fig=None, ax=None):\n",
    "    csv_data = []\n",
    "    for sub_dir in next(os.walk(algorithm_dir))[1]:\n",
    "        csv_data.append(pd.read_csv(os.path.join(algorithm_dir, sub_dir, \"progress.csv\")))\n",
    "        \n",
    "    x_data = []\n",
    "    y_data = []\n",
    "    for data in csv_data:\n",
    "        x_data.append(data[x_value])\n",
    "        y_data.append(data[y_value])\n",
    "        \n",
    "    x_mean = np.mean(x_data, axis=0)\n",
    "    y_mean = np.mean(y_data, axis=0)\n",
    "    y_std = np.std(y_data, axis=0)\n",
    "    \n",
    "    if fig is None or ax is None:\n",
    "        fig, ax = plt.subplots()\n",
    "        \n",
    "    ax.plot(x_mean, y_mean, label=plot_label)\n",
    "    \n",
    "    if do_y_std:\n",
    "        ax.fill_between(x_mean, y_mean - y_std, y_mean + y_std, alpha=0.5)\n",
    "        \n",
    "    return fig, ax"
   ]
  },
  {
   "cell_type": "code",
   "execution_count": null,
   "metadata": {},
   "outputs": [],
   "source": [
    "algorithm_dir = \"training_runs/Praktikum_Evaluation/Baselines/training_runs/ant/trpo/\""
   ]
  },
  {
   "cell_type": "code",
   "execution_count": null,
   "metadata": {},
   "outputs": [],
   "source": [
    "fig, ax = plot_baseline(algorithm_dir, \"misc/total_timesteps\", \"EpRewMean\", plot_label=\"trpo\")"
   ]
  },
  {
   "cell_type": "code",
   "execution_count": null,
   "metadata": {},
   "outputs": [],
   "source": [
    "experiments = index_experiments(\"training_runs/weights-evaluation/ant-01\")"
   ]
  },
  {
   "cell_type": "code",
   "execution_count": null,
   "metadata": {},
   "outputs": [],
   "source": [
    "experiments[1].plot_experiment(LogColumnHeaders.TIMESTEPS_SO_FAR, EvaluationColumnHeaders.EVAL_REW_MEAN, EvaluationColumnHeaders.EVAL_REW_MEAN, fig=fig, ax=ax, plot_label=\"es\")"
   ]
  }
 ],
 "metadata": {
  "kernelspec": {
   "display_name": "Python 3",
   "language": "python",
   "name": "python3"
  },
  "language_info": {
   "codemirror_mode": {
    "name": "ipython",
    "version": 3
   },
   "file_extension": ".py",
   "mimetype": "text/x-python",
   "name": "python",
   "nbconvert_exporter": "python",
   "pygments_lexer": "ipython3",
   "version": "3.7.6"
  }
 },
 "nbformat": 4,
 "nbformat_minor": 4
}
