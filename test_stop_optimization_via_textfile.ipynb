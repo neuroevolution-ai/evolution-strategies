{
 "cells": [
  {
   "cell_type": "code",
   "execution_count": null,
   "metadata": {},
   "outputs": [],
   "source": [
    "import time\n",
    "import os"
   ]
  },
  {
   "cell_type": "code",
   "execution_count": null,
   "metadata": {},
   "outputs": [],
   "source": [
    "# Create a text file that is used to stop optimization later\n",
    "with open(\"use_this_file_to_stop_optimization.txt\", \"w\") as f:\n",
    "    f.write('# Stop Optimization')"
   ]
  },
  {
   "cell_type": "code",
   "execution_count": null,
   "metadata": {},
   "outputs": [],
   "source": [
    "while True:\n",
    "    with open('use_this_file_to_stop_optimization.txt', 'r') as f:\n",
    "        out = f.read()\n",
    "        \n",
    "    print(out)\n",
    "        \n",
    "    if out == 'Stop Optimization':\n",
    "        print(\"Optimization stopped\")\n",
    "        break\n",
    "    \n",
    "    \n",
    "    print(\"Optimize\")\n",
    "    \n",
    "    time.sleep(3)\n",
    "    \n",
    "# Delete File\n",
    "os.remove(\"use_this_file_to_stop_optimization.txt\")\n",
    "print(\"File Removed\")"
   ]
  }
 ],
 "metadata": {
  "kernelspec": {
   "display_name": "Python 3",
   "language": "python",
   "name": "python3"
  },
  "language_info": {
   "codemirror_mode": {
    "name": "ipython",
    "version": 3
   },
   "file_extension": ".py",
   "mimetype": "text/x-python",
   "name": "python",
   "nbconvert_exporter": "python",
   "pygments_lexer": "ipython3",
   "version": "3.7.3"
  }
 },
 "nbformat": 4,
 "nbformat_minor": 2
}
